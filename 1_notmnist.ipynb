{
 "cells": [
  {
   "cell_type": "markdown",
   "metadata": {},
   "source": [
    "# \n",
    "Deep Learning\n",
    "Assignment 1\n",
    "\n",
    "The objective of this assignment is to learn about simple data curation practices, and familiarize you with some of the data we'll be reusing later.\n",
    "\n",
    "This notebook uses the notMNIST dataset to be used with python experiments. This dataset is designed to look like the classic MNIST dataset, while looking a little more like real data: it's a harder task, and the data is a lot less 'clean' than MNIST.\n"
   ]
  },
  {
   "cell_type": "code",
   "execution_count": 2,
   "metadata": {},
   "outputs": [],
   "source": [
    "#!/usr/bin/env python3\n",
    "# -*- coding: utf-8 -*-\n",
    "\"\"\"\n",
    "Created on Sun Jul 15 22:36:12 2018\n",
    "\n",
    "@author: avishek\n",
    "\"\"\"\n",
    "\n",
    "# These are all the modules we'll be using later. Make sure you can import them\n",
    "# before proceeding further.\n",
    "from __future__ import print_function\n",
    "import imageio\n",
    "import matplotlib.pyplot as plt\n",
    "import numpy as np\n",
    "import os\n",
    "import sys\n",
    "import tarfile\n",
    "from IPython.display import display, Image\n",
    "from sklearn.linear_model import LogisticRegression\n",
    "from six.moves.urllib.request import urlretrieve\n",
    "from six.moves import cPickle as pickle"
   ]
  },
  {
   "cell_type": "markdown",
   "metadata": {},
   "source": [
    "First, we'll download the dataset to our local machine. The data consists of characters rendered in a variety of fonts on a 28x28 image. The labels are limited to 'A' through 'J' (10 classes). The training set has about 500k and the testset 19000 labeled examples. Given these sizes, it should be possible to train models quickly on any machine."
   ]
  },
  {
   "cell_type": "code",
   "execution_count": 6,
   "metadata": {},
   "outputs": [
    {
     "name": "stdout",
     "output_type": "stream",
     "text": [
      "Found and verified /home/avishek/AnacondaProjects/tensorflow_tut/ud_dl/hw1/notMNIST_large.tar.gz\n",
      "Found and verified /home/avishek/AnacondaProjects/tensorflow_tut/ud_dl/hw1/notMNIST_small.tar.gz\n"
     ]
    }
   ],
   "source": [
    "# Config the matplotlib backend as plotting inline in IPython\n",
    "#%matplotlib inline\n",
    "#%%\n",
    "url = 'https://commondatastorage.googleapis.com/books1000/'\n",
    "last_percent_reported = None\n",
    "data_root = '/home/avishek/AnacondaProjects/tensorflow_tut/ud_dl/hw1' # Change me to store data elsewhere\n",
    "\n",
    "def download_progress_hook(count, blockSize, totalSize):\n",
    "  \"\"\"A hook to report the progress of a download. This is mostly intended for users with\n",
    "  slow internet connections. Reports every 5% change in download progress.\n",
    "  \"\"\"\n",
    "  global last_percent_reported\n",
    "  percent = int(count * blockSize * 100 / totalSize)\n",
    "\n",
    "  if last_percent_reported != percent:\n",
    "    if percent % 5 == 0:\n",
    "      sys.stdout.write(\"%s%%\" % percent)\n",
    "      sys.stdout.flush()\n",
    "    else:\n",
    "      sys.stdout.write(\".\")\n",
    "      sys.stdout.flush()\n",
    "      \n",
    "    last_percent_reported = percent\n",
    "        \n",
    "def maybe_download(filename, expected_bytes, force=False):\n",
    "  \"\"\"Download a file if not present, and make sure it's the right size.\"\"\"\n",
    "  dest_filename = os.path.join(data_root, filename)\n",
    "  if force or not os.path.exists(dest_filename):\n",
    "    print('Attempting to download:', filename) \n",
    "    filename, _ = urlretrieve(url + filename, dest_filename, reporthook=download_progress_hook)\n",
    "    print('\\nDownload Complete!')\n",
    "  statinfo = os.stat(dest_filename)\n",
    "  if statinfo.st_size == expected_bytes:\n",
    "    print('Found and verified', dest_filename)\n",
    "  else:\n",
    "    raise Exception(\n",
    "      'Failed to verify ' + dest_filename + '. Can you get to it with a browser?')\n",
    "  return dest_filename\n",
    "\n",
    "train_filename = maybe_download('notMNIST_large.tar.gz', 247336696)\n",
    "test_filename = maybe_download('notMNIST_small.tar.gz', 8458043)"
   ]
  },
  {
   "cell_type": "markdown",
   "metadata": {},
   "source": [
    "Extract the dataset from the compressed .tar.gz file. This should give you a set of directories, labeled A through J."
   ]
  },
  {
   "cell_type": "code",
   "execution_count": 7,
   "metadata": {},
   "outputs": [
    {
     "name": "stdout",
     "output_type": "stream",
     "text": [
      "/home/avishek/AnacondaProjects/tensorflow_tut/ud_dl/hw1/notMNIST_large already present - Skipping extraction of /home/avishek/AnacondaProjects/tensorflow_tut/ud_dl/hw1/notMNIST_large.tar.gz.\n",
      "['/home/avishek/AnacondaProjects/tensorflow_tut/ud_dl/hw1/notMNIST_large/A', '/home/avishek/AnacondaProjects/tensorflow_tut/ud_dl/hw1/notMNIST_large/B', '/home/avishek/AnacondaProjects/tensorflow_tut/ud_dl/hw1/notMNIST_large/C', '/home/avishek/AnacondaProjects/tensorflow_tut/ud_dl/hw1/notMNIST_large/D', '/home/avishek/AnacondaProjects/tensorflow_tut/ud_dl/hw1/notMNIST_large/E', '/home/avishek/AnacondaProjects/tensorflow_tut/ud_dl/hw1/notMNIST_large/F', '/home/avishek/AnacondaProjects/tensorflow_tut/ud_dl/hw1/notMNIST_large/G', '/home/avishek/AnacondaProjects/tensorflow_tut/ud_dl/hw1/notMNIST_large/H', '/home/avishek/AnacondaProjects/tensorflow_tut/ud_dl/hw1/notMNIST_large/I', '/home/avishek/AnacondaProjects/tensorflow_tut/ud_dl/hw1/notMNIST_large/J']\n",
      "/home/avishek/AnacondaProjects/tensorflow_tut/ud_dl/hw1/notMNIST_small already present - Skipping extraction of /home/avishek/AnacondaProjects/tensorflow_tut/ud_dl/hw1/notMNIST_small.tar.gz.\n",
      "['/home/avishek/AnacondaProjects/tensorflow_tut/ud_dl/hw1/notMNIST_small/A', '/home/avishek/AnacondaProjects/tensorflow_tut/ud_dl/hw1/notMNIST_small/B', '/home/avishek/AnacondaProjects/tensorflow_tut/ud_dl/hw1/notMNIST_small/C', '/home/avishek/AnacondaProjects/tensorflow_tut/ud_dl/hw1/notMNIST_small/D', '/home/avishek/AnacondaProjects/tensorflow_tut/ud_dl/hw1/notMNIST_small/E', '/home/avishek/AnacondaProjects/tensorflow_tut/ud_dl/hw1/notMNIST_small/F', '/home/avishek/AnacondaProjects/tensorflow_tut/ud_dl/hw1/notMNIST_small/G', '/home/avishek/AnacondaProjects/tensorflow_tut/ud_dl/hw1/notMNIST_small/H', '/home/avishek/AnacondaProjects/tensorflow_tut/ud_dl/hw1/notMNIST_small/I', '/home/avishek/AnacondaProjects/tensorflow_tut/ud_dl/hw1/notMNIST_small/J']\n"
     ]
    }
   ],
   "source": [
    "num_classes = 10\n",
    "np.random.seed(133)\n",
    "\n",
    "def maybe_extract(filename, force=False):\n",
    "  root = os.path.splitext(os.path.splitext(filename)[0])[0]  # remove .tar.gz\n",
    "  if os.path.isdir(root) and not force:\n",
    "    # You may override by setting force=True.\n",
    "    print('%s already present - Skipping extraction of %s.' % (root, filename))\n",
    "  else:\n",
    "    print('Extracting data for %s. This may take a while. Please wait.' % root)\n",
    "    tar = tarfile.open(filename)\n",
    "    sys.stdout.flush()\n",
    "    tar.extractall(data_root)\n",
    "    tar.close()\n",
    "  data_folders = [\n",
    "    os.path.join(root, d) for d in sorted(os.listdir(root))\n",
    "    if os.path.isdir(os.path.join(root, d))]\n",
    "  if len(data_folders) != num_classes:\n",
    "    raise Exception(\n",
    "      'Expected %d folders, one per class. Found %d instead.' % (\n",
    "        num_classes, len(data_folders)))\n",
    "  print(data_folders)\n",
    "  return data_folders\n",
    "  \n",
    "train_folders = maybe_extract(train_filename)\n",
    "test_folders = maybe_extract(test_filename)"
   ]
  },
  {
   "cell_type": "markdown",
   "metadata": {},
   "source": [
    "Problem 1\n",
    "\n",
    "Let's take a peek at some of the data to make sure it looks sensible. Each exemplar should be an image of a character A through J rendered in a different font. Display a sample of the images that we just downloaded. Hint: you can use the package IPython.display."
   ]
  },
  {
   "cell_type": "code",
   "execution_count": 8,
   "metadata": {},
   "outputs": [
    {
     "name": "stdout",
     "output_type": "stream",
     "text": [
      "current folder is:  /home/avishek/AnacondaProjects/tensorflow_tut/ud_dl/hw1/notMNIST_large/A\n"
     ]
    },
    {
     "data": {
      "image/png": "[encoded data removed]",
      "text/plain": [
       "<IPython.core.display.Image object>"
      ]
     },
     "metadata": {},
     "output_type": "display_data"
    },
    {
     "data": {
      "image/png": "[encoded data removed]",
      "text/plain": [
       "<IPython.core.display.Image object>"
      ]
     },
     "metadata": {},
     "output_type": "display_data"
    },
    {
     "name": "stdout",
     "output_type": "stream",
     "text": [
      "current folder is:  /home/avishek/AnacondaProjects/tensorflow_tut/ud_dl/hw1/notMNIST_large/B\n"
     ]
    },
    {
     "data": {
      "image/png": "[encoded data removed]",
      "text/plain": [
       "<IPython.core.display.Image object>"
      ]
     },
     "metadata": {},
     "output_type": "display_data"
    },
    {
     "data": {
      "image/png": "[encoded data removed]",
      "text/plain": [
       "<IPython.core.display.Image object>"
      ]
     },
     "metadata": {},
     "output_type": "display_data"
    },
    {
     "name": "stdout",
     "output_type": "stream",
     "text": [
      "current folder is:  /home/avishek/AnacondaProjects/tensorflow_tut/ud_dl/hw1/notMNIST_large/C\n"
     ]
    },
    {
     "data": {
      "image/png": "[encoded data removed]",
      "text/plain": [
       "<IPython.core.display.Image object>"
      ]
     },
     "metadata": {},
     "output_type": "display_data"
    },
    {
     "data": {
      "image/png": "[encoded data removed]",
      "text/plain": [
       "<IPython.core.display.Image object>"
      ]
     },
     "metadata": {},
     "output_type": "display_data"
    },
    {
     "name": "stdout",
     "output_type": "stream",
     "text": [
      "current folder is:  /home/avishek/AnacondaProjects/tensorflow_tut/ud_dl/hw1/notMNIST_large/D\n"
     ]
    },
    {
     "data": {
      "image/png": "[encoded data removed]",
      "text/plain": [
       "<IPython.core.display.Image object>"
      ]
     },
     "metadata": {},
     "output_type": "display_data"
    },
    {
     "data": {
      "image/png": "[encoded data removed]",
      "text/plain": [
       "<IPython.core.display.Image object>"
      ]
     },
     "metadata": {},
     "output_type": "display_data"
    },
    {
     "name": "stdout",
     "output_type": "stream",
     "text": [
      "current folder is:  /home/avishek/AnacondaProjects/tensorflow_tut/ud_dl/hw1/notMNIST_large/E\n"
     ]
    },
    {
     "data": {
      "image/png": "[encoded data removed]",
      "text/plain": [
       "<IPython.core.display.Image object>"
      ]
     },
     "metadata": {},
     "output_type": "display_data"
    },
    {
     "data": {
      "image/png": "[encoded data removed]",
      "text/plain": [
       "<IPython.core.display.Image object>"
      ]
     },
     "metadata": {},
     "output_type": "display_data"
    },
    {
     "name": "stdout",
     "output_type": "stream",
     "text": [
      "current folder is:  /home/avishek/AnacondaProjects/tensorflow_tut/ud_dl/hw1/notMNIST_large/F\n"
     ]
    },
    {
     "data": {
      "image/png": "[encoded data removed]",
      "text/plain": [
       "<IPython.core.display.Image object>"
      ]
     },
     "metadata": {},
     "output_type": "display_data"
    },
    {
     "data": {
      "image/png": "[encoded data removed]",
      "text/plain": [
       "<IPython.core.display.Image object>"
      ]
     },
     "metadata": {},
     "output_type": "display_data"
    },
    {
     "name": "stdout",
     "output_type": "stream",
     "text": [
      "current folder is:  /home/avishek/AnacondaProjects/tensorflow_tut/ud_dl/hw1/notMNIST_large/G\n"
     ]
    },
    {
     "data": {
      "image/png": "[encoded data removed]",
      "text/plain": [
       "<IPython.core.display.Image object>"
      ]
     },
     "metadata": {},
     "output_type": "display_data"
    },
    {
     "data": {
      "image/png": "[encoded data removed]",
      "text/plain": [
       "<IPython.core.display.Image object>"
      ]
     },
     "metadata": {},
     "output_type": "display_data"
    },
    {
     "name": "stdout",
     "output_type": "stream",
     "text": [
      "current folder is:  /home/avishek/AnacondaProjects/tensorflow_tut/ud_dl/hw1/notMNIST_large/H\n"
     ]
    },
    {
     "data": {
      "image/png": "[encoded data removed]",
      "text/plain": [
       "<IPython.core.display.Image object>"
      ]
     },
     "metadata": {},
     "output_type": "display_data"
    },
    {
     "data": {
      "image/png": "[encoded data removed]",
      "text/plain": [
       "<IPython.core.display.Image object>"
      ]
     },
     "metadata": {},
     "output_type": "display_data"
    },
    {
     "name": "stdout",
     "output_type": "stream",
     "text": [
      "current folder is:  /home/avishek/AnacondaProjects/tensorflow_tut/ud_dl/hw1/notMNIST_large/I\n"
     ]
    },
    {
     "data": {
      "image/png": "[encoded data removed]",
      "text/plain": [
       "<IPython.core.display.Image object>"
      ]
     },
     "metadata": {},
     "output_type": "display_data"
    },
    {
     "data": {
      "image/png": "[encoded data removed]",
      "text/plain": [
       "<IPython.core.display.Image object>"
      ]
     },
     "metadata": {},
     "output_type": "display_data"
    },
    {
     "name": "stdout",
     "output_type": "stream",
     "text": [
      "current folder is:  /home/avishek/AnacondaProjects/tensorflow_tut/ud_dl/hw1/notMNIST_large/J\n"
     ]
    },
    {
     "data": {
      "image/png": "[encoded data removed]",
      "text/plain": [
       "<IPython.core.display.Image object>"
      ]
     },
     "metadata": {},
     "output_type": "display_data"
    },
    {
     "data": {
      "image/png": "[encoded data removed]",
      "text/plain": [
       "<IPython.core.display.Image object>"
      ]
     },
     "metadata": {},
     "output_type": "display_data"
    }
   ],
   "source": [
    "#%%\n",
    "#problem 1\n",
    "#Let's take a peek at some of the data to make sure it looks sensible. \n",
    "#Each exemplar should be an image of a character A through J rendered in a different font.\n",
    "#Display a sample of the images that we just downloaded.\n",
    "import random\n",
    "def dispSampleImages(folderlist, no_of_images):\n",
    "    for folder in folderlist:\n",
    "        print(\"current folder is: \", folder)\n",
    "        filelist = os.listdir(folder)\n",
    "        files = random.sample(filelist, no_of_images)\n",
    "        for file in files:\n",
    "            image = Image(filename= os.path.join(folder, file))\n",
    "            display(image)\n",
    "\n",
    "dispSampleImages(train_folders, 2)"
   ]
  },
  {
   "cell_type": "markdown",
   "metadata": {},
   "source": [
    "\n",
    "\n",
    "Now let's load the data in a more manageable format. Since, depending on your computer setup you might not be able to fit it all in memory, we'll load each class into a separate dataset, store them on disk and curate them independently. Later we'll merge them into a single dataset of manageable size.\n",
    "\n",
    "We'll convert the entire dataset into a 3D array (image index, x, y) of floating point values, normalized to have approximately zero mean and standard deviation ~0.5 to make training easier down the road.\n",
    "\n",
    "A few images might not be readable, we'll just skip them.\n"
   ]
  },
  {
   "cell_type": "code",
   "execution_count": 9,
   "metadata": {},
   "outputs": [
    {
     "name": "stdout",
     "output_type": "stream",
     "text": [
      "/home/avishek/AnacondaProjects/tensorflow_tut/ud_dl/hw1/notMNIST_large/A.pickle already present - Skipping pickling.\n",
      "/home/avishek/AnacondaProjects/tensorflow_tut/ud_dl/hw1/notMNIST_large/B.pickle already present - Skipping pickling.\n",
      "/home/avishek/AnacondaProjects/tensorflow_tut/ud_dl/hw1/notMNIST_large/C.pickle already present - Skipping pickling.\n",
      "/home/avishek/AnacondaProjects/tensorflow_tut/ud_dl/hw1/notMNIST_large/D.pickle already present - Skipping pickling.\n",
      "/home/avishek/AnacondaProjects/tensorflow_tut/ud_dl/hw1/notMNIST_large/E.pickle already present - Skipping pickling.\n",
      "/home/avishek/AnacondaProjects/tensorflow_tut/ud_dl/hw1/notMNIST_large/F.pickle already present - Skipping pickling.\n",
      "/home/avishek/AnacondaProjects/tensorflow_tut/ud_dl/hw1/notMNIST_large/G.pickle already present - Skipping pickling.\n",
      "/home/avishek/AnacondaProjects/tensorflow_tut/ud_dl/hw1/notMNIST_large/H.pickle already present - Skipping pickling.\n",
      "/home/avishek/AnacondaProjects/tensorflow_tut/ud_dl/hw1/notMNIST_large/I.pickle already present - Skipping pickling.\n",
      "/home/avishek/AnacondaProjects/tensorflow_tut/ud_dl/hw1/notMNIST_large/J.pickle already present - Skipping pickling.\n",
      "/home/avishek/AnacondaProjects/tensorflow_tut/ud_dl/hw1/notMNIST_small/A.pickle already present - Skipping pickling.\n",
      "/home/avishek/AnacondaProjects/tensorflow_tut/ud_dl/hw1/notMNIST_small/B.pickle already present - Skipping pickling.\n",
      "/home/avishek/AnacondaProjects/tensorflow_tut/ud_dl/hw1/notMNIST_small/C.pickle already present - Skipping pickling.\n",
      "/home/avishek/AnacondaProjects/tensorflow_tut/ud_dl/hw1/notMNIST_small/D.pickle already present - Skipping pickling.\n",
      "/home/avishek/AnacondaProjects/tensorflow_tut/ud_dl/hw1/notMNIST_small/E.pickle already present - Skipping pickling.\n",
      "/home/avishek/AnacondaProjects/tensorflow_tut/ud_dl/hw1/notMNIST_small/F.pickle already present - Skipping pickling.\n",
      "/home/avishek/AnacondaProjects/tensorflow_tut/ud_dl/hw1/notMNIST_small/G.pickle already present - Skipping pickling.\n",
      "/home/avishek/AnacondaProjects/tensorflow_tut/ud_dl/hw1/notMNIST_small/H.pickle already present - Skipping pickling.\n",
      "/home/avishek/AnacondaProjects/tensorflow_tut/ud_dl/hw1/notMNIST_small/I.pickle already present - Skipping pickling.\n",
      "/home/avishek/AnacondaProjects/tensorflow_tut/ud_dl/hw1/notMNIST_small/J.pickle already present - Skipping pickling.\n"
     ]
    }
   ],
   "source": [
    "#%%\n",
    "image_size = 28  # Pixel width and height.\n",
    "pixel_depth = 255.0  # Number of levels per pixel.\n",
    "\n",
    "def load_letter(folder, min_num_images):\n",
    "  \"\"\"Load the data for a single letter label.\"\"\"\n",
    "  image_files = os.listdir(folder)\n",
    "  dataset = np.ndarray(shape=(len(image_files), image_size, image_size),\n",
    "                         dtype=np.float32)\n",
    "  print(folder)\n",
    "  num_images = 0\n",
    "  for image in image_files:\n",
    "    image_file = os.path.join(folder, image)\n",
    "    try:\n",
    "      image_data = (imageio.imread(image_file).astype(float) - \n",
    "                    pixel_depth / 2) / pixel_depth\n",
    "      if image_data.shape != (image_size, image_size):\n",
    "        raise Exception('Unexpected image shape: %s' % str(image_data.shape))\n",
    "      dataset[num_images, :, :] = image_data\n",
    "      num_images = num_images + 1\n",
    "    except (IOError, ValueError) as e:\n",
    "      print('Could not read:', image_file, ':', e, '- it\\'s ok, skipping.')\n",
    "    \n",
    "  dataset = dataset[0:num_images, :, :]\n",
    "  if num_images < min_num_images:\n",
    "    raise Exception('Many fewer images than expected: %d < %d' %\n",
    "                    (num_images, min_num_images))\n",
    "    \n",
    "  print('Full dataset tensor:', dataset.shape)\n",
    "  print('Mean:', np.mean(dataset))\n",
    "  print('Standard deviation:', np.std(dataset))\n",
    "  return dataset\n",
    "        \n",
    "def maybe_pickle(data_folders, min_num_images_per_class, force=False):\n",
    "  dataset_names = []\n",
    "  for folder in data_folders:\n",
    "    set_filename = folder + '.pickle'\n",
    "    dataset_names.append(set_filename)\n",
    "    if os.path.exists(set_filename) and not force:\n",
    "      # You may override by setting force=True.\n",
    "      print('%s already present - Skipping pickling.' % set_filename)\n",
    "    else:\n",
    "      print('Pickling %s.' % set_filename)\n",
    "      dataset = load_letter(folder, min_num_images_per_class)\n",
    "      try:\n",
    "        with open(set_filename, 'wb') as f:\n",
    "          pickle.dump(dataset, f, pickle.HIGHEST_PROTOCOL)\n",
    "      except Exception as e:\n",
    "        print('Unable to save data to', set_filename, ':', e)\n",
    "  \n",
    "  return dataset_names\n",
    "\n",
    "train_datasets = maybe_pickle(train_folders, 45000)\n",
    "test_datasets = maybe_pickle(test_folders, 1800)"
   ]
  },
  {
   "cell_type": "markdown",
   "metadata": {},
   "source": [
    "Problem 2\n",
    "\n",
    "Let's verify that the data still looks good. Displaying a sample of the labels and images from the ndarray. Hint: you can use matplotlib.pyplot."
   ]
  },
  {
   "cell_type": "code",
   "execution_count": 12,
   "metadata": {},
   "outputs": [
    {
     "data": {
      "image/png": "[encoded data removed]",
      "text/plain": [
       "<Figure size 432x288 with 8 Axes>"
      ]
     },
     "metadata": {},
     "output_type": "display_data"
    }
   ],
   "source": [
    "#%%\n",
    "# problem 2\n",
    "#Displaying a sample of the labels and images from the ndarray after pickiling\n",
    "# use matplotlib.pyplot., and subplot\n",
    "#%matplotlib inline\n",
    "def disp_8_images(images):\n",
    "    for i, img in enumerate(images):\n",
    "        plt.subplot(2,4, i+1)\n",
    "        plt.imshow(img)\n",
    "\n",
    "def disp_pickled_samples(folders):\n",
    "    # randomly select the folder a folder and append .pickle to it\n",
    "    folder = random.sample(folders, 1)\n",
    "    pickleFileName = ''.join(folder) + '.pickle'\n",
    "    try:\n",
    "        with open(pickleFileName, 'rb') as f:\n",
    "            dataset = pickle.load(f)\n",
    "    except Exception as e:\n",
    "        print('Unable to read data from', pickleFileName, ':', e)\n",
    "        return\n",
    "    # dataset is a 3d array of N-28-28\n",
    "    images = random.sample(list(dataset), 8)\n",
    "    plt.suptitle(''.join(folder)[-1])\n",
    "    disp_8_images(images)\n",
    "\n",
    "\n",
    "disp_pickled_samples(test_folders)"
   ]
  },
  {
   "cell_type": "code",
   "execution_count": 13,
   "metadata": {},
   "outputs": [
    {
     "data": {
      "image/png": "[encoded data removed]",
      "text/plain": [
       "<Figure size 432x288 with 8 Axes>"
      ]
     },
     "metadata": {},
     "output_type": "display_data"
    }
   ],
   "source": [
    "disp_pickled_samples(train_folders)"
   ]
  },
  {
   "cell_type": "markdown",
   "metadata": {},
   "source": [
    "Problem 3\n",
    "\n",
    "Another check: we expect the data to be balanced across classes. Verify that."
   ]
  },
  {
   "cell_type": "code",
   "execution_count": 15,
   "metadata": {},
   "outputs": [
    {
     "name": "stdout",
     "output_type": "stream",
     "text": [
      "printing no of images in  test_folders\n",
      "folder:  A :  1872\n",
      "folder:  B :  1873\n",
      "folder:  C :  1873\n",
      "folder:  D :  1873\n",
      "folder:  E :  1873\n",
      "folder:  F :  1872\n",
      "folder:  G :  1872\n",
      "folder:  H :  1872\n",
      "folder:  I :  1872\n",
      "folder:  J :  1872\n",
      "\n",
      " printing no of images in train_folders\n",
      "folder:  A :  52909\n",
      "folder:  B :  52911\n",
      "folder:  C :  52912\n",
      "folder:  D :  52911\n",
      "folder:  E :  52912\n",
      "folder:  F :  52912\n",
      "folder:  G :  52912\n",
      "folder:  H :  52912\n",
      "folder:  I :  52912\n",
      "folder:  J :  52911\n"
     ]
    }
   ],
   "source": [
    "#%% Problem 3\n",
    "# display number of images in each classes\n",
    "def  no_of_images_perClass(folders):\n",
    "    for folder in folders:\n",
    "        pickledFileName = ''.join(folder) + '.pickle'\n",
    "        try:\n",
    "            with open(pickledFileName, 'rb') as f:\n",
    "                dataset = pickle.load(f)\n",
    "        except Exception as e:\n",
    "            print(' unable to load the file', pickledFileName, ':', e)\n",
    "            return\n",
    "        # now find the length of the dataset\n",
    "        print(\"folder: \", ''.join(folder)[-1], \": \", len(dataset))\n",
    "\n",
    "\n",
    "print(\"printing no of images in  test_folders\")\n",
    "no_of_images_perClass(test_folders)\n",
    "print(\"\\n printing no of images in train_folders\")\n",
    "no_of_images_perClass(train_folders)"
   ]
  },
  {
   "cell_type": "markdown",
   "metadata": {},
   "source": [
    "\n",
    "\n",
    "Merge and prune the training data as needed. Depending on your computer setup, you might not be able to fit it all in memory, and you can tune train_size as needed. The labels will be stored into a separate array of integers 0 through 9.\n",
    "\n",
    "Also create a validation dataset for hyperparameter tuning.\n"
   ]
  },
  {
   "cell_type": "code",
   "execution_count": 16,
   "metadata": {},
   "outputs": [
    {
     "name": "stdout",
     "output_type": "stream",
     "text": [
      "vsize_per_class =  1000\n",
      "tsize_per_class =  20000\n",
      "vsize_per_class =  0\n",
      "tsize_per_class =  1000\n",
      "Training: (200000, 28, 28) (200000,)\n",
      "Validation: (10000, 28, 28) (10000,)\n",
      "Testing: (10000, 28, 28) (10000,)\n"
     ]
    }
   ],
   "source": [
    "#%%\n",
    "def make_arrays(nb_rows, img_size):\n",
    "  if nb_rows:\n",
    "    dataset = np.ndarray((nb_rows, img_size, img_size), dtype=np.float32)\n",
    "    labels = np.ndarray(nb_rows, dtype=np.int32)\n",
    "  else:\n",
    "    dataset, labels = None, None\n",
    "  return dataset, labels\n",
    "\n",
    "def merge_datasets(pickle_files, train_size, valid_size=0):\n",
    "  num_classes = len(pickle_files)\n",
    "  valid_dataset, valid_labels = make_arrays(valid_size, image_size)\n",
    "  train_dataset, train_labels = make_arrays(train_size, image_size)\n",
    "  vsize_per_class = valid_size // num_classes\n",
    "  tsize_per_class = train_size // num_classes\n",
    "  print(\"vsize_per_class = \", vsize_per_class)\n",
    "  print(\"tsize_per_class = \", tsize_per_class)\n",
    "  \n",
    "  start_v, start_t = 0, 0\n",
    "  end_v, end_t = vsize_per_class, tsize_per_class\n",
    "  end_l = vsize_per_class+tsize_per_class\n",
    "  for label, pickle_file in enumerate(pickle_files):       \n",
    "    try:\n",
    "      with open(pickle_file, 'rb') as f:\n",
    "        letter_set = pickle.load(f)\n",
    "        # let's shuffle the letters to have random validation and training set\n",
    "        np.random.shuffle(letter_set)\n",
    "        if valid_dataset is not None:\n",
    "          valid_letter = letter_set[:vsize_per_class, :, :]\n",
    "          valid_dataset[start_v:end_v, :, :] = valid_letter\n",
    "          valid_labels[start_v:end_v] = label\n",
    "          start_v += vsize_per_class\n",
    "          end_v += vsize_per_class\n",
    "                    \n",
    "        train_letter = letter_set[vsize_per_class:end_l, :, :]\n",
    "        train_dataset[start_t:end_t, :, :] = train_letter\n",
    "        train_labels[start_t:end_t] = label\n",
    "        start_t += tsize_per_class\n",
    "        end_t += tsize_per_class\n",
    "    except Exception as e:\n",
    "      print('Unable to process data from', pickle_file, ':', e)\n",
    "      raise\n",
    "    \n",
    "  return valid_dataset, valid_labels, train_dataset, train_labels\n",
    "            \n",
    "            \n",
    "train_size = 200000\n",
    "valid_size = 10000\n",
    "test_size = 10000\n",
    "\n",
    "valid_dataset, valid_labels, train_dataset, train_labels = merge_datasets(\n",
    "  train_datasets, train_size, valid_size)\n",
    "_, _, test_dataset, test_labels = merge_datasets(test_datasets, test_size)\n",
    "\n",
    "print('Training:', train_dataset.shape, train_labels.shape)\n",
    "print('Validation:', valid_dataset.shape, valid_labels.shape)\n",
    "print('Testing:', test_dataset.shape, test_labels.shape)"
   ]
  },
  {
   "cell_type": "code",
   "execution_count": 18,
   "metadata": {},
   "outputs": [],
   "source": [
    "\n",
    "\n",
    "#Next, we'll randomize the data. It's important to have the labels well shuffled for the training and test distributions to match.\n",
    "\n",
    "def randomize(dataset, labels):\n",
    "  permutation = np.random.permutation(labels.shape[0])\n",
    "  shuffled_dataset = dataset[permutation,:,:]\n",
    "  shuffled_labels = labels[permutation]\n",
    "  return shuffled_dataset, shuffled_labels\n",
    "\n",
    "train_dataset, train_labels = randomize(train_dataset, train_labels)\n",
    "test_dataset, test_labels = randomize(test_dataset, test_labels)\n",
    "valid_dataset, valid_labels = randomize(valid_dataset, valid_labels)"
   ]
  },
  {
   "cell_type": "markdown",
   "metadata": {},
   "source": [
    "Problem 4¶\n",
    "\n",
    "Convince yourself that the data is still good after shuffling!"
   ]
  },
  {
   "cell_type": "code",
   "execution_count": 25,
   "metadata": {},
   "outputs": [
    {
     "data": {
      "image/png": "[encoded data removed]",
      "text/plain": [
       "<Figure size 432x288 with 10 Axes>"
      ]
     },
     "metadata": {},
     "output_type": "display_data"
    }
   ],
   "source": [
    "#%%\n",
    "# problem 4: display one sample from each label and convince urself that the \n",
    "# data is good even after shuffling and randomizing\n",
    "labelDictNames ={0: 'A', 1:'B', 2:'C', 3:'D', 4:'E', 5:'F', 6:'G', 7:'H', 8:'I', 9:'J'}\n",
    "def disp_dataset_samples(dataset, labels):\n",
    "    dataset_len = len(dataset)\n",
    "    indices = random.sample(range(dataset_len), 10)\n",
    "    for i, index in enumerate(indices):\n",
    "        plt.subplot(2,5,i+1)\n",
    "        plt.title(labelDictNames[labels[index]])\n",
    "        plt.imshow(dataset[index])\n",
    "        plt.axis('off')\n",
    "\n",
    "disp_shuffled_dataset(train_dataset, train_labels)  \n",
    "    "
   ]
  },
  {
   "cell_type": "markdown",
   "metadata": {},
   "source": [
    "Finally, let's save the data for later reuse:\n"
   ]
  },
  {
   "cell_type": "code",
   "execution_count": 26,
   "metadata": {},
   "outputs": [],
   "source": [
    "pickle_file = os.path.join(data_root, 'notMNIST.pickle')\n",
    "\n",
    "try:\n",
    "  f = open(pickle_file, 'wb')\n",
    "  save = {\n",
    "    'train_dataset': train_dataset,\n",
    "    'train_labels': train_labels,\n",
    "    'valid_dataset': valid_dataset,\n",
    "    'valid_labels': valid_labels,\n",
    "    'test_dataset': test_dataset,\n",
    "    'test_labels': test_labels,\n",
    "    }\n",
    "  pickle.dump(save, f, pickle.HIGHEST_PROTOCOL)\n",
    "  f.close()\n",
    "except Exception as e:\n",
    "  print('Unable to save data to', pickle_file, ':', e)\n",
    "  raise"
   ]
  },
  {
   "cell_type": "code",
   "execution_count": 27,
   "metadata": {},
   "outputs": [
    {
     "name": "stdout",
     "output_type": "stream",
     "text": [
      "Compressed pickle size: 690800506\n"
     ]
    }
   ],
   "source": [
    "statinfo = os.stat(pickle_file)\n",
    "print('Compressed pickle size:', statinfo.st_size)\n"
   ]
  },
  {
   "cell_type": "markdown",
   "metadata": {},
   "source": [
    "\n",
    "\n",
    "Problem 5\n",
    "\n",
    "By construction, this dataset might contain a lot of overlapping samples, including training data that's also contained in the validation and test set! Overlap between training and test can skew the results if you expect to use your model in an environment where there is never an overlap, but are actually ok if you expect to see training samples recur when you use it. Measure how much overlap there is between training, validation and test samples.\n",
    "\n",
    "Optional questions:\n",
    "\n",
    "    What about near duplicates between datasets? (images that are almost identical)\n",
    "    Create a sanitized validation and test set, and compare your accuracy on those in subsequent assignments.\n",
    "\n"
   ]
  },
  {
   "cell_type": "markdown",
   "metadata": {},
   "source": [
    "\n",
    "\n",
    "\n",
    "\n",
    "Problem 6\n",
    "\n",
    "Let's get an idea of what an off-the-shelf classifier can give you on this data. It's always good to check that there is something to learn, and that it's a problem that is not so trivial that a canned solution solves it.\n",
    "\n",
    "Train a simple model on this data using 50, 100, 1000 and 5000 training samples. Hint: you can use the LogisticRegression model from sklearn.linear_model.\n",
    "\n",
    "Optional question: train an off-the-shelf model on all the data!"
   ]
  }
 ],
 "metadata": {
  "kernelspec": {
   "display_name": "Python 3",
   "language": "python",
   "name": "python3"
  },
  "language_info": {
   "codemirror_mode": {
    "name": "ipython",
    "version": 3
   },
   "file_extension": ".py",
   "mimetype": "text/x-python",
   "name": "python",
   "nbconvert_exporter": "python",
   "pygments_lexer": "ipython3",
   "version": "3.6.4"
  }
 },
 "nbformat": 4,
 "nbformat_minor": 2
}
